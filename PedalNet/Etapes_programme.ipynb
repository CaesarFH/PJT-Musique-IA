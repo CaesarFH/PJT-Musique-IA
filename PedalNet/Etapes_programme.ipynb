{
 "cells": [
  {
   "cell_type": "markdown",
   "metadata": {},
   "source": [
    "# ModéIiser une pédaIe de guitare avec un réseau de neurones.\n",
    "Source : https://github.com/GuitarML/PedalNetRT"
   ]
  },
  {
   "cell_type": "markdown",
   "metadata": {},
   "source": [
    "### 1) InstaIIer Ies moduIes Pytorch et Pytorch_lightning\n",
    "    - Allez sur le site https://pytorch.org/get-started/locally/ et sélectionnez les options correspondant à votre configuration.\n",
    "    - Ouvrez une console Anaconda prompt et tapez la commande donnée par le site.\n",
    "    - Installez le module pytorch-lightning avec cette commande: \n",
    "    conda install pytorch-lightning -c conda-forge "
   ]
  },
  {
   "cell_type": "markdown",
   "metadata": {},
   "source": [
    "### 2) Construire Ies fichiers audios\n",
    "    - Ajouter deux fichiers .wav dans le dossier data. Ces deux fichiers doivent rovenir du même \"morceau\" de musique, un \n",
    "    brut et un modifié.\n",
    "    - Dans la console Anaconda, lancez le programme :\n",
    "    python prepare_data.py data/your_in.wav data/your_out.wav \n",
    "Un fichier data.pickle a été créé, afin de rendre utilisable les fichiers audio par python."
   ]
  },
  {
   "cell_type": "markdown",
   "metadata": {},
   "source": [
    "### 3) Créer Ie modèIe \n",
    "    - Commençez l'entrainement en tapant  python train.py  dans la console\n",
    "    - Une fois fini, un fichier .ckpt est apparu dans le dossier \n",
    "    lightning_logs. C'est votre modèle de pédale, nous allons d'abord tester sa viabilité.\n",
    "    - Exécutez  python test.py –-model=<chemin_vers>/<votre_modèIe>.ckpt\n",
    "    - Exécutez  python python plot_wav.py\n",
    "Ce programme génère des courbes nous permettant de comparer l'efficacité de notre modèle. Une fois celui-ci validé, il ne reste plus qu'à le convertir en .json. \n",
    "\n",
    "    - Exécutez :\n",
    "python convert_pedalnet_to_wavenetva.py --model=<chemin_vers>/<votre_modèIe>.ckpt\n",
    "\n",
    "Un fichier “converted_model.json” a été créé. Renommez le suivant l'équipement modélisé et copiez le dans les plugins de votre logiciel audio."
   ]
  }
 ],
 "metadata": {
  "kernelspec": {
   "display_name": "Python 3",
   "language": "python",
   "name": "python3"
  },
  "language_info": {
   "codemirror_mode": {
    "name": "ipython",
    "version": 3
   },
   "file_extension": ".py",
   "mimetype": "text/x-python",
   "name": "python",
   "nbconvert_exporter": "python",
   "pygments_lexer": "ipython3",
   "version": "3.6.9"
  }
 },
 "nbformat": 4,
 "nbformat_minor": 4
}
